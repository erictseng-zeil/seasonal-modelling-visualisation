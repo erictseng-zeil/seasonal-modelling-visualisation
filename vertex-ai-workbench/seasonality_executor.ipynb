{
 "cells": [
  {
   "cell_type": "code",
   "execution_count": 1,
   "id": "08629cea-ccff-466c-b722-70c788c0686b",
   "metadata": {
    "tags": []
   },
   "outputs": [
    {
     "name": "stdout",
     "output_type": "stream",
     "text": [
      "Downloading: 100%|\u001b[32m██████████\u001b[0m|\n"
     ]
    }
   ],
   "source": [
    "# -- Import data from BigQuery -- #\n",
    "import pandas_gbq\n",
    "\n",
    "project_id = 'data-science-398321'\n",
    "query = \"\"\"\n",
    "SELECT\n",
    "  date,\n",
    "  period,\n",
    "  category,\n",
    "  subcategory,\n",
    "  job_index\n",
    "FROM `data-science-398321.prod_marketing.jobs_online_monthly_unadjusted_series`\n",
    "WHERE period IS NOT NULL # Exclude periods of high fluctuation\n",
    "\"\"\"\n",
    "\n",
    "df = pandas_gbq.read_gbq(query, project_id=project_id)\n"
   ]
  },
  {
   "cell_type": "code",
   "execution_count": 2,
   "id": "e69d338c-f5d5-4b43-9dc2-b15a9eabd5d6",
   "metadata": {
    "tags": []
   },
   "outputs": [
    {
     "name": "stdout",
     "output_type": "stream",
     "text": [
      "rows: 4681\n"
     ]
    },
    {
     "data": {
      "text/html": [
       "<div>\n",
       "<style scoped>\n",
       "    .dataframe tbody tr th:only-of-type {\n",
       "        vertical-align: middle;\n",
       "    }\n",
       "\n",
       "    .dataframe tbody tr th {\n",
       "        vertical-align: top;\n",
       "    }\n",
       "\n",
       "    .dataframe thead th {\n",
       "        text-align: right;\n",
       "    }\n",
       "</style>\n",
       "<table border=\"1\" class=\"dataframe\">\n",
       "  <thead>\n",
       "    <tr style=\"text-align: right;\">\n",
       "      <th></th>\n",
       "      <th>date</th>\n",
       "      <th>period</th>\n",
       "      <th>category</th>\n",
       "      <th>subcategory</th>\n",
       "      <th>job_index</th>\n",
       "    </tr>\n",
       "  </thead>\n",
       "  <tbody>\n",
       "    <tr>\n",
       "      <th>0</th>\n",
       "      <td>2024-06-01</td>\n",
       "      <td>Downtrend (2023-NOW)</td>\n",
       "      <td>Region</td>\n",
       "      <td>Auckland</td>\n",
       "      <td>58.6</td>\n",
       "    </tr>\n",
       "    <tr>\n",
       "      <th>1</th>\n",
       "      <td>2024-12-01</td>\n",
       "      <td>Downtrend (2023-NOW)</td>\n",
       "      <td>Region</td>\n",
       "      <td>Auckland</td>\n",
       "      <td>36.7</td>\n",
       "    </tr>\n",
       "    <tr>\n",
       "      <th>2</th>\n",
       "      <td>2025-03-01</td>\n",
       "      <td>Downtrend (2023-NOW)</td>\n",
       "      <td>Region</td>\n",
       "      <td>Auckland</td>\n",
       "      <td>62.7</td>\n",
       "    </tr>\n",
       "    <tr>\n",
       "      <th>3</th>\n",
       "      <td>2023-04-01</td>\n",
       "      <td>Downtrend (2023-NOW)</td>\n",
       "      <td>Region</td>\n",
       "      <td>Auckland</td>\n",
       "      <td>92.8</td>\n",
       "    </tr>\n",
       "    <tr>\n",
       "      <th>4</th>\n",
       "      <td>2025-02-01</td>\n",
       "      <td>Downtrend (2023-NOW)</td>\n",
       "      <td>Region</td>\n",
       "      <td>Auckland</td>\n",
       "      <td>57.0</td>\n",
       "    </tr>\n",
       "  </tbody>\n",
       "</table>\n",
       "</div>"
      ],
      "text/plain": [
       "         date                period category subcategory  job_index\n",
       "0  2024-06-01  Downtrend (2023-NOW)   Region    Auckland       58.6\n",
       "1  2024-12-01  Downtrend (2023-NOW)   Region    Auckland       36.7\n",
       "2  2025-03-01  Downtrend (2023-NOW)   Region    Auckland       62.7\n",
       "3  2023-04-01  Downtrend (2023-NOW)   Region    Auckland       92.8\n",
       "4  2025-02-01  Downtrend (2023-NOW)   Region    Auckland       57.0"
      ]
     },
     "execution_count": 2,
     "metadata": {},
     "output_type": "execute_result"
    }
   ],
   "source": [
    "print(f\"rows: {len(df)}\")\n",
    "df.head(5)\n"
   ]
  },
  {
   "cell_type": "code",
   "execution_count": 3,
   "id": "17e63691-c564-493e-8941-725591dcc9a6",
   "metadata": {
    "tags": []
   },
   "outputs": [],
   "source": [
    "# -- Seasonal decompose each column -- #\n",
    "from statsmodels.tsa.seasonal import seasonal_decompose\n",
    "import matplotlib.pyplot as plt\n",
    "import pandas as pd\n",
    "\n",
    "def decompose_by_period_subcategory(\n",
    "    df, period=12, model='additive',\n",
    "    two_sided=True, extrapolate_trend=0):\n",
    "\n",
    "    results = []\n",
    "\n",
    "    # Group by period and category/subcategory\n",
    "    for (p, cat, subcat), group in df.groupby([\"period\", \"category\", \"subcategory\"]):\n",
    "        group = group.sort_values(\"date\").set_index(\"date\")\n",
    "\n",
    "        result = seasonal_decompose(\n",
    "            group[\"job_index\"],\n",
    "            model=model,\n",
    "            period=period,\n",
    "            two_sided=two_sided,\n",
    "            extrapolate_trend=extrapolate_trend\n",
    "        )\n",
    "\n",
    "        # DataFrame\n",
    "        tmp = pd.DataFrame({\n",
    "            \"date\": group.index,\n",
    "            \"period\": p,\n",
    "            \"category\": cat,\n",
    "            \"subcategory\": subcat,\n",
    "            \"observed\": result.observed.values,\n",
    "            \"trend\": result.trend.values,\n",
    "            \"seasonal\": result.seasonal.values,\n",
    "            \"resid\": result.resid.values\n",
    "        })\n",
    "        results.append(tmp)\n",
    "\n",
    "    # Concat results\n",
    "    results_df = pd.concat(results, ignore_index=True)\n",
    "    results_df['date'] = pd.to_datetime(results_df['date']).dt.date\n",
    "    return results_df\n"
   ]
  },
  {
   "cell_type": "code",
   "execution_count": 4,
   "id": "dec44fae-ee69-4d74-bb69-3b80f0aa15ad",
   "metadata": {
    "tags": []
   },
   "outputs": [
    {
     "data": {
      "text/html": [
       "<div>\n",
       "<style scoped>\n",
       "    .dataframe tbody tr th:only-of-type {\n",
       "        vertical-align: middle;\n",
       "    }\n",
       "\n",
       "    .dataframe tbody tr th {\n",
       "        vertical-align: top;\n",
       "    }\n",
       "\n",
       "    .dataframe thead th {\n",
       "        text-align: right;\n",
       "    }\n",
       "</style>\n",
       "<table border=\"1\" class=\"dataframe\">\n",
       "  <thead>\n",
       "    <tr style=\"text-align: right;\">\n",
       "      <th></th>\n",
       "      <th>date</th>\n",
       "      <th>period</th>\n",
       "      <th>category</th>\n",
       "      <th>subcategory</th>\n",
       "      <th>observed</th>\n",
       "      <th>trend</th>\n",
       "      <th>seasonal</th>\n",
       "      <th>resid</th>\n",
       "    </tr>\n",
       "  </thead>\n",
       "  <tbody>\n",
       "    <tr>\n",
       "      <th>0</th>\n",
       "      <td>2023-01-01</td>\n",
       "      <td>Downtrend (2023-NOW)</td>\n",
       "      <td>Industry</td>\n",
       "      <td>Business_services</td>\n",
       "      <td>83.2</td>\n",
       "      <td>86.681845</td>\n",
       "      <td>1.244684</td>\n",
       "      <td>-4.726529</td>\n",
       "    </tr>\n",
       "    <tr>\n",
       "      <th>1</th>\n",
       "      <td>2023-02-01</td>\n",
       "      <td>Downtrend (2023-NOW)</td>\n",
       "      <td>Industry</td>\n",
       "      <td>Business_services</td>\n",
       "      <td>80.8</td>\n",
       "      <td>84.625000</td>\n",
       "      <td>1.136152</td>\n",
       "      <td>-4.961152</td>\n",
       "    </tr>\n",
       "    <tr>\n",
       "      <th>2</th>\n",
       "      <td>2023-03-01</td>\n",
       "      <td>Downtrend (2023-NOW)</td>\n",
       "      <td>Industry</td>\n",
       "      <td>Business_services</td>\n",
       "      <td>95.3</td>\n",
       "      <td>82.568155</td>\n",
       "      <td>8.726827</td>\n",
       "      <td>4.005018</td>\n",
       "    </tr>\n",
       "    <tr>\n",
       "      <th>3</th>\n",
       "      <td>2023-04-01</td>\n",
       "      <td>Downtrend (2023-NOW)</td>\n",
       "      <td>Industry</td>\n",
       "      <td>Business_services</td>\n",
       "      <td>74.1</td>\n",
       "      <td>80.511310</td>\n",
       "      <td>0.048057</td>\n",
       "      <td>-6.459367</td>\n",
       "    </tr>\n",
       "    <tr>\n",
       "      <th>4</th>\n",
       "      <td>2023-05-01</td>\n",
       "      <td>Downtrend (2023-NOW)</td>\n",
       "      <td>Industry</td>\n",
       "      <td>Business_services</td>\n",
       "      <td>91.3</td>\n",
       "      <td>78.454464</td>\n",
       "      <td>10.026232</td>\n",
       "      <td>2.819304</td>\n",
       "    </tr>\n",
       "  </tbody>\n",
       "</table>\n",
       "</div>"
      ],
      "text/plain": [
       "         date                period  category        subcategory  observed  \\\n",
       "0  2023-01-01  Downtrend (2023-NOW)  Industry  Business_services      83.2   \n",
       "1  2023-02-01  Downtrend (2023-NOW)  Industry  Business_services      80.8   \n",
       "2  2023-03-01  Downtrend (2023-NOW)  Industry  Business_services      95.3   \n",
       "3  2023-04-01  Downtrend (2023-NOW)  Industry  Business_services      74.1   \n",
       "4  2023-05-01  Downtrend (2023-NOW)  Industry  Business_services      91.3   \n",
       "\n",
       "       trend   seasonal     resid  \n",
       "0  86.681845   1.244684 -4.726529  \n",
       "1  84.625000   1.136152 -4.961152  \n",
       "2  82.568155   8.726827  4.005018  \n",
       "3  80.511310   0.048057 -6.459367  \n",
       "4  78.454464  10.026232  2.819304  "
      ]
     },
     "execution_count": 4,
     "metadata": {},
     "output_type": "execute_result"
    }
   ],
   "source": [
    "decompose_df = decompose_by_period_subcategory(df, extrapolate_trend=6)\n",
    "decompose_df.head(5)"
   ]
  },
  {
   "cell_type": "code",
   "execution_count": 10,
   "id": "bf032b01-2080-4b57-be43-986207236d2c",
   "metadata": {
    "tags": []
   },
   "outputs": [
    {
     "name": "stderr",
     "output_type": "stream",
     "text": [
      "100%|██████████| 1/1 [00:00<00:00, 3243.85it/s]\n"
     ]
    }
   ],
   "source": [
    "# -- Push data to BigQuery -- #\n",
    "from pandas_gbq import to_gbq\n",
    "\n",
    "project_id = \"data-science-398321\"\n",
    "dataset = \"prod_marketing\"\n",
    "table = \"jobs_online_monthly_seasonality\"\n",
    "\n",
    "to_gbq(\n",
    "    decompose_df,\n",
    "    destination_table=f\"{dataset}.{table}\",\n",
    "    project_id=project_id,\n",
    "    if_exists=\"replace\"  # 或 \"append\"\n",
    ")\n"
   ]
  },
  {
   "cell_type": "code",
   "execution_count": 11,
   "id": "5e25b6e2-630a-4978-a274-92209add52e1",
   "metadata": {
    "tags": []
   },
   "outputs": [
    {
     "name": "stdout",
     "output_type": "stream",
     "text": [
      "Downloading: 100%|\u001b[32m██████████\u001b[0m|\n"
     ]
    }
   ],
   "source": [
    "# Check the uploaded data\n",
    "from google.cloud import bigquery\n",
    "\n",
    "table_id = f\"{project_id}.{dataset}.{table}\"\n",
    "sql = f\"\"\"\n",
    "SELECT\n",
    "  COUNT(*) AS n_rows,\n",
    "FROM `{table_id}`\n",
    "\"\"\"\n",
    "\n",
    "check_df = pandas_gbq.read_gbq(query, project_id=project_id)\n"
   ]
  },
  {
   "cell_type": "code",
   "execution_count": 12,
   "id": "7a843386-719d-46a2-b72e-a0dcbe08f1ea",
   "metadata": {
    "tags": []
   },
   "outputs": [
    {
     "name": "stdout",
     "output_type": "stream",
     "text": [
      "rows: 4681\n"
     ]
    },
    {
     "data": {
      "text/html": [
       "<div>\n",
       "<style scoped>\n",
       "    .dataframe tbody tr th:only-of-type {\n",
       "        vertical-align: middle;\n",
       "    }\n",
       "\n",
       "    .dataframe tbody tr th {\n",
       "        vertical-align: top;\n",
       "    }\n",
       "\n",
       "    .dataframe thead th {\n",
       "        text-align: right;\n",
       "    }\n",
       "</style>\n",
       "<table border=\"1\" class=\"dataframe\">\n",
       "  <thead>\n",
       "    <tr style=\"text-align: right;\">\n",
       "      <th></th>\n",
       "      <th>date</th>\n",
       "      <th>period</th>\n",
       "      <th>category</th>\n",
       "      <th>subcategory</th>\n",
       "      <th>job_index</th>\n",
       "    </tr>\n",
       "  </thead>\n",
       "  <tbody>\n",
       "    <tr>\n",
       "      <th>0</th>\n",
       "      <td>2024-06-01</td>\n",
       "      <td>Downtrend (2023-NOW)</td>\n",
       "      <td>Region</td>\n",
       "      <td>Auckland</td>\n",
       "      <td>58.6</td>\n",
       "    </tr>\n",
       "    <tr>\n",
       "      <th>1</th>\n",
       "      <td>2024-12-01</td>\n",
       "      <td>Downtrend (2023-NOW)</td>\n",
       "      <td>Region</td>\n",
       "      <td>Auckland</td>\n",
       "      <td>36.7</td>\n",
       "    </tr>\n",
       "    <tr>\n",
       "      <th>2</th>\n",
       "      <td>2025-03-01</td>\n",
       "      <td>Downtrend (2023-NOW)</td>\n",
       "      <td>Region</td>\n",
       "      <td>Auckland</td>\n",
       "      <td>62.7</td>\n",
       "    </tr>\n",
       "    <tr>\n",
       "      <th>3</th>\n",
       "      <td>2023-04-01</td>\n",
       "      <td>Downtrend (2023-NOW)</td>\n",
       "      <td>Region</td>\n",
       "      <td>Auckland</td>\n",
       "      <td>92.8</td>\n",
       "    </tr>\n",
       "    <tr>\n",
       "      <th>4</th>\n",
       "      <td>2025-02-01</td>\n",
       "      <td>Downtrend (2023-NOW)</td>\n",
       "      <td>Region</td>\n",
       "      <td>Auckland</td>\n",
       "      <td>57.0</td>\n",
       "    </tr>\n",
       "  </tbody>\n",
       "</table>\n",
       "</div>"
      ],
      "text/plain": [
       "         date                period category subcategory  job_index\n",
       "0  2024-06-01  Downtrend (2023-NOW)   Region    Auckland       58.6\n",
       "1  2024-12-01  Downtrend (2023-NOW)   Region    Auckland       36.7\n",
       "2  2025-03-01  Downtrend (2023-NOW)   Region    Auckland       62.7\n",
       "3  2023-04-01  Downtrend (2023-NOW)   Region    Auckland       92.8\n",
       "4  2025-02-01  Downtrend (2023-NOW)   Region    Auckland       57.0"
      ]
     },
     "execution_count": 12,
     "metadata": {},
     "output_type": "execute_result"
    }
   ],
   "source": [
    "print(f\"rows: {len(check_df)}\")\n",
    "check_df.head(5)\n"
   ]
  },
  {
   "cell_type": "code",
   "execution_count": 13,
   "id": "0b8a1802-b1c3-4e32-9e86-6b91005a6b7a",
   "metadata": {
    "tags": []
   },
   "outputs": [],
   "source": [
    "# -- Check residual summary -- #\n",
    "# If it's high, we may not see the seasonal patterns are stable\n",
    "import pandas as pd\n",
    "import numpy as np\n",
    "\n",
    "def residual_summary(decompose_df, period, category):\n",
    "    # specific category\n",
    "    \n",
    "    df = decompose_df[decompose_df[\"period\"] == period].copy()\n",
    "    df = df[df['category'] == category]\n",
    "    \n",
    "    # rmse\n",
    "    summary = (df.groupby(\"subcategory\")\n",
    "               .apply(lambda g: pd.Series({\n",
    "                   \"rmse\": np.sqrt(np.mean(g[\"resid\"].dropna()**2)),\n",
    "                   \"mae\": g[\"resid\"].abs().mean(),\n",
    "                   \"mape\": (g[\"resid\"].abs() / g[\"observed\"].replace(0, np.nan).abs()).mean() * 100,\n",
    "                   \"resid_to_obs\": (\n",
    "                       g.loc[g[\"resid\"].notna(), \"resid\"].abs().sum() /\n",
    "                       g.loc[g[\"resid\"].notna(), \"observed\"].abs().sum()\n",
    "                   ) * 100\n",
    "               }))\n",
    "               .reset_index())\n",
    "    return summary\n"
   ]
  },
  {
   "cell_type": "code",
   "execution_count": 14,
   "id": "868ace39-6e1b-4524-8904-e05162d7d4c2",
   "metadata": {
    "tags": []
   },
   "outputs": [
    {
     "name": "stdout",
     "output_type": "stream",
     "text": [
      "         subcategory       rmse        mae      mape  resid_to_obs\n",
      "3        Health_care  32.872051  24.689469  9.209903      8.782961\n",
      "7              Other  18.116702  16.095008  6.352322      5.884552\n",
      "8            Primary  17.776673  13.887008  4.214494      4.406182\n",
      "2          Education  16.063218  10.289893  4.252693      4.765049\n",
      "4        Hospitality  14.377056  11.251827  5.812999      5.524250\n",
      "1       Construction  13.147847  11.001809  5.974290      5.621680\n",
      "6      Manufacturing  11.800480   8.697742  4.532985      4.162691\n",
      "9              Sales   5.270070   4.342585  5.060340      4.704530\n",
      "0  Business_services   3.848629   3.254787  5.811908      5.381821\n",
      "5                 IT   2.609767   2.087974  5.822855      5.416047\n"
     ]
    },
    {
     "name": "stderr",
     "output_type": "stream",
     "text": [
      "/var/tmp/ipykernel_7637/2015711376.py:14: FutureWarning: DataFrameGroupBy.apply operated on the grouping columns. This behavior is deprecated, and in a future version of pandas the grouping columns will be excluded from the operation. Either pass `include_groups=False` to exclude the groupings or explicitly select the grouping columns after groupby to silence this warning.\n",
      "  .apply(lambda g: pd.Series({\n"
     ]
    }
   ],
   "source": [
    "# Check the result\n",
    "resid_check = residual_summary(decompose_df, period = 'Downtrend (2023-NOW)', category=\"Industry\")\n",
    "print(resid_check.sort_values(\"rmse\", ascending=False).head(10))\n"
   ]
  }
 ],
 "metadata": {
  "environment": {
   "kernel": "conda-base-py",
   "name": "workbench-notebooks.m132",
   "type": "gcloud",
   "uri": "us-docker.pkg.dev/deeplearning-platform-release/gcr.io/workbench-notebooks:m132"
  },
  "kernelspec": {
   "display_name": "Python 3 (ipykernel) (Local)",
   "language": "python",
   "name": "conda-base-py"
  },
  "language_info": {
   "codemirror_mode": {
    "name": "ipython",
    "version": 3
   },
   "file_extension": ".py",
   "mimetype": "text/x-python",
   "name": "python",
   "nbconvert_exporter": "python",
   "pygments_lexer": "ipython3",
   "version": "3.10.18"
  }
 },
 "nbformat": 4,
 "nbformat_minor": 5
}
